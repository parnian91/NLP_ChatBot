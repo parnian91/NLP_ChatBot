{
  "nbformat": 4,
  "nbformat_minor": 0,
  "metadata": {
    "colab": {
      "provenance": [],
      "toc_visible": true,
      "authorship_tag": "ABX9TyPlxYXtG6dA90Dpeqx3DOAe",
      "include_colab_link": true
    },
    "kernelspec": {
      "name": "python3",
      "display_name": "Python 3"
    },
    "language_info": {
      "name": "python"
    }
  },
  "cells": [
    {
      "cell_type": "markdown",
      "metadata": {
        "id": "view-in-github",
        "colab_type": "text"
      },
      "source": [
        "<a href=\"https://colab.research.google.com/github/parnian91/NLP_ChatBot/blob/main/nlp_chatbot.ipynb\" target=\"_parent\"><img src=\"https://colab.research.google.com/assets/colab-badge.svg\" alt=\"Open In Colab\"/></a>"
      ]
    },
    {
      "cell_type": "markdown",
      "source": [
        "#  <font color='#FFE15D'><b>💎 Project : ChatBot (QA Bot) </b></font>"
      ],
      "metadata": {
        "id": "bn6DWukeQzsq"
      }
    },
    {
      "cell_type": "code",
      "source": [
        "import numpy as np\n",
        "import matplotlib.pyplot as plt\n",
        "from keras.preprocessing.sequence import pad_sequences\n",
        "from keras.preprocessing.text import Tokenizer"
      ],
      "metadata": {
        "id": "XoWwoc-bAUkA"
      },
      "execution_count": null,
      "outputs": []
    },
    {
      "cell_type": "markdown",
      "source": [
        "## 🔴 Get the data"
      ],
      "metadata": {
        "id": "-0W_1mdW8MJ3"
      }
    },
    {
      "cell_type": "code",
      "source": [
        "!pip install datasets"
      ],
      "metadata": {
        "id": "V6NLM9f1tdxp",
        "colab": {
          "base_uri": "https://localhost:8080/"
        },
        "outputId": "afbbffc8-910d-4fb2-810d-9856852b10d6"
      },
      "execution_count": null,
      "outputs": [
        {
          "output_type": "stream",
          "name": "stdout",
          "text": [
            "Requirement already satisfied: datasets in /usr/local/lib/python3.10/dist-packages (2.17.0)\n",
            "Requirement already satisfied: filelock in /usr/local/lib/python3.10/dist-packages (from datasets) (3.13.1)\n",
            "Requirement already satisfied: numpy>=1.17 in /usr/local/lib/python3.10/dist-packages (from datasets) (1.23.5)\n",
            "Requirement already satisfied: pyarrow>=12.0.0 in /usr/local/lib/python3.10/dist-packages (from datasets) (15.0.0)\n",
            "Requirement already satisfied: pyarrow-hotfix in /usr/local/lib/python3.10/dist-packages (from datasets) (0.6)\n",
            "Requirement already satisfied: dill<0.3.9,>=0.3.0 in /usr/local/lib/python3.10/dist-packages (from datasets) (0.3.8)\n",
            "Requirement already satisfied: pandas in /usr/local/lib/python3.10/dist-packages (from datasets) (1.5.3)\n",
            "Requirement already satisfied: requests>=2.19.0 in /usr/local/lib/python3.10/dist-packages (from datasets) (2.31.0)\n",
            "Requirement already satisfied: tqdm>=4.62.1 in /usr/local/lib/python3.10/dist-packages (from datasets) (4.66.1)\n",
            "Requirement already satisfied: xxhash in /usr/local/lib/python3.10/dist-packages (from datasets) (3.4.1)\n",
            "Requirement already satisfied: multiprocess in /usr/local/lib/python3.10/dist-packages (from datasets) (0.70.16)\n",
            "Requirement already satisfied: fsspec[http]<=2023.10.0,>=2023.1.0 in /usr/local/lib/python3.10/dist-packages (from datasets) (2023.6.0)\n",
            "Requirement already satisfied: aiohttp in /usr/local/lib/python3.10/dist-packages (from datasets) (3.9.3)\n",
            "Requirement already satisfied: huggingface-hub>=0.19.4 in /usr/local/lib/python3.10/dist-packages (from datasets) (0.20.3)\n",
            "Requirement already satisfied: packaging in /usr/local/lib/python3.10/dist-packages (from datasets) (23.2)\n",
            "Requirement already satisfied: pyyaml>=5.1 in /usr/local/lib/python3.10/dist-packages (from datasets) (6.0.1)\n",
            "Requirement already satisfied: aiosignal>=1.1.2 in /usr/local/lib/python3.10/dist-packages (from aiohttp->datasets) (1.3.1)\n",
            "Requirement already satisfied: attrs>=17.3.0 in /usr/local/lib/python3.10/dist-packages (from aiohttp->datasets) (23.2.0)\n",
            "Requirement already satisfied: frozenlist>=1.1.1 in /usr/local/lib/python3.10/dist-packages (from aiohttp->datasets) (1.4.1)\n",
            "Requirement already satisfied: multidict<7.0,>=4.5 in /usr/local/lib/python3.10/dist-packages (from aiohttp->datasets) (6.0.5)\n",
            "Requirement already satisfied: yarl<2.0,>=1.0 in /usr/local/lib/python3.10/dist-packages (from aiohttp->datasets) (1.9.4)\n",
            "Requirement already satisfied: async-timeout<5.0,>=4.0 in /usr/local/lib/python3.10/dist-packages (from aiohttp->datasets) (4.0.3)\n",
            "Requirement already satisfied: typing-extensions>=3.7.4.3 in /usr/local/lib/python3.10/dist-packages (from huggingface-hub>=0.19.4->datasets) (4.9.0)\n",
            "Requirement already satisfied: charset-normalizer<4,>=2 in /usr/local/lib/python3.10/dist-packages (from requests>=2.19.0->datasets) (3.3.2)\n",
            "Requirement already satisfied: idna<4,>=2.5 in /usr/local/lib/python3.10/dist-packages (from requests>=2.19.0->datasets) (3.6)\n",
            "Requirement already satisfied: urllib3<3,>=1.21.1 in /usr/local/lib/python3.10/dist-packages (from requests>=2.19.0->datasets) (2.0.7)\n",
            "Requirement already satisfied: certifi>=2017.4.17 in /usr/local/lib/python3.10/dist-packages (from requests>=2.19.0->datasets) (2024.2.2)\n",
            "Requirement already satisfied: python-dateutil>=2.8.1 in /usr/local/lib/python3.10/dist-packages (from pandas->datasets) (2.8.2)\n",
            "Requirement already satisfied: pytz>=2020.1 in /usr/local/lib/python3.10/dist-packages (from pandas->datasets) (2023.4)\n",
            "Requirement already satisfied: six>=1.5 in /usr/local/lib/python3.10/dist-packages (from python-dateutil>=2.8.1->pandas->datasets) (1.16.0)\n"
          ]
        }
      ]
    },
    {
      "cell_type": "code",
      "source": [
        "from sklearn import datasets\n",
        "import datasets"
      ],
      "metadata": {
        "id": "4bFLPG7gdSgk"
      },
      "execution_count": null,
      "outputs": []
    },
    {
      "cell_type": "code",
      "source": [
        "# Load the bAbI QA dataset with a specific configuration (e.g., 'en-10k-qa1')\n",
        "dataset = datasets.load_dataset(\"facebook/babi_qa\", \"en-10k-qa1\")"
      ],
      "metadata": {
        "id": "0FeGLhoRqBY6"
      },
      "execution_count": null,
      "outputs": []
    },
    {
      "cell_type": "markdown",
      "source": [
        "### A story starts from line 1 to line 15. Every 3rd line, there is story(2), question(1) & answer."
      ],
      "metadata": {
        "id": "rryUY-dnBiFl"
      }
    },
    {
      "cell_type": "code",
      "source": [
        "dataset['train']"
      ],
      "metadata": {
        "colab": {
          "base_uri": "https://localhost:8080/"
        },
        "id": "0KH3lGtareQt",
        "outputId": "bea84638-f62c-4eb9-e2da-7b10d6741e95"
      },
      "execution_count": null,
      "outputs": [
        {
          "output_type": "execute_result",
          "data": {
            "text/plain": [
              "Dataset({\n",
              "    features: ['story'],\n",
              "    num_rows: 2000\n",
              "})"
            ]
          },
          "metadata": {},
          "execution_count": 113
        }
      ]
    },
    {
      "cell_type": "code",
      "source": [
        "dataset['test']"
      ],
      "metadata": {
        "colab": {
          "base_uri": "https://localhost:8080/"
        },
        "id": "415tlEPF6k70",
        "outputId": "29a14d77-8342-4397-fdde-9b4ff9e6c3fc"
      },
      "execution_count": null,
      "outputs": [
        {
          "output_type": "execute_result",
          "data": {
            "text/plain": [
              "Dataset({\n",
              "    features: ['story'],\n",
              "    num_rows: 200\n",
              "})"
            ]
          },
          "metadata": {},
          "execution_count": 114
        }
      ]
    },
    {
      "cell_type": "code",
      "source": [
        "dataset['train']['story'][0]"
      ],
      "metadata": {
        "colab": {
          "base_uri": "https://localhost:8080/"
        },
        "id": "CngALsMs6U-4",
        "outputId": "808bb5fc-93ac-42df-cc9d-e2c7a4c7c66b"
      },
      "execution_count": null,
      "outputs": [
        {
          "output_type": "execute_result",
          "data": {
            "text/plain": [
              "{'id': ['1',\n",
              "  '2',\n",
              "  '3',\n",
              "  '4',\n",
              "  '5',\n",
              "  '6',\n",
              "  '7',\n",
              "  '8',\n",
              "  '9',\n",
              "  '10',\n",
              "  '11',\n",
              "  '12',\n",
              "  '13',\n",
              "  '14',\n",
              "  '15'],\n",
              " 'type': [0, 0, 1, 0, 0, 1, 0, 0, 1, 0, 0, 1, 0, 0, 1],\n",
              " 'text': ['Mary moved to the bathroom.',\n",
              "  'John went to the hallway.',\n",
              "  'Where is Mary?',\n",
              "  'Daniel went back to the hallway.',\n",
              "  'Sandra moved to the garden.',\n",
              "  'Where is Daniel?',\n",
              "  'John moved to the office.',\n",
              "  'Sandra journeyed to the bathroom.',\n",
              "  'Where is Daniel?',\n",
              "  'Mary moved to the hallway.',\n",
              "  'Daniel travelled to the office.',\n",
              "  'Where is Daniel?',\n",
              "  'John went back to the garden.',\n",
              "  'John moved to the bedroom.',\n",
              "  'Where is Sandra?'],\n",
              " 'supporting_ids': [[],\n",
              "  [],\n",
              "  ['1'],\n",
              "  [],\n",
              "  [],\n",
              "  ['4'],\n",
              "  [],\n",
              "  [],\n",
              "  ['4'],\n",
              "  [],\n",
              "  [],\n",
              "  ['11'],\n",
              "  [],\n",
              "  [],\n",
              "  ['8']],\n",
              " 'answer': ['',\n",
              "  '',\n",
              "  'bathroom',\n",
              "  '',\n",
              "  '',\n",
              "  'hallway',\n",
              "  '',\n",
              "  '',\n",
              "  'hallway',\n",
              "  '',\n",
              "  '',\n",
              "  'office',\n",
              "  '',\n",
              "  '',\n",
              "  'bathroom']}"
            ]
          },
          "metadata": {},
          "execution_count": 115
        }
      ]
    },
    {
      "cell_type": "code",
      "source": [
        "dataset['train']['story'][1]['text']"
      ],
      "metadata": {
        "colab": {
          "base_uri": "https://localhost:8080/"
        },
        "id": "7Nb4P17k3v4H",
        "outputId": "4fa925ab-9691-4fea-ebce-e8505492719c"
      },
      "execution_count": null,
      "outputs": [
        {
          "output_type": "execute_result",
          "data": {
            "text/plain": [
              "['Sandra travelled to the office.',\n",
              " 'Sandra went to the bathroom.',\n",
              " 'Where is Sandra?',\n",
              " 'Mary went to the bedroom.',\n",
              " 'Daniel moved to the hallway.',\n",
              " 'Where is Sandra?',\n",
              " 'John went to the garden.',\n",
              " 'John travelled to the office.',\n",
              " 'Where is Sandra?',\n",
              " 'Daniel journeyed to the bedroom.',\n",
              " 'Daniel travelled to the hallway.',\n",
              " 'Where is John?',\n",
              " 'John went to the bedroom.',\n",
              " 'John travelled to the office.',\n",
              " 'Where is Daniel?']"
            ]
          },
          "metadata": {},
          "execution_count": 116
        }
      ]
    },
    {
      "cell_type": "code",
      "source": [
        "dataset['train']['story'][0]['text'][0]"
      ],
      "metadata": {
        "colab": {
          "base_uri": "https://localhost:8080/",
          "height": 35
        },
        "id": "1f693Tuj2jaH",
        "outputId": "fd799f6c-4de5-46f6-8b25-7e617c6cf0f7"
      },
      "execution_count": null,
      "outputs": [
        {
          "output_type": "execute_result",
          "data": {
            "text/plain": [
              "'Mary moved to the bathroom.'"
            ],
            "application/vnd.google.colaboratory.intrinsic+json": {
              "type": "string"
            }
          },
          "metadata": {},
          "execution_count": 117
        }
      ]
    },
    {
      "cell_type": "code",
      "source": [
        "dataset['train']['story'][0]['text'][1]"
      ],
      "metadata": {
        "colab": {
          "base_uri": "https://localhost:8080/",
          "height": 35
        },
        "id": "Khp2iSVF2m1Q",
        "outputId": "ad694fed-cc7f-4a12-eead-95125ced7583"
      },
      "execution_count": null,
      "outputs": [
        {
          "output_type": "execute_result",
          "data": {
            "text/plain": [
              "'John went to the hallway.'"
            ],
            "application/vnd.google.colaboratory.intrinsic+json": {
              "type": "string"
            }
          },
          "metadata": {},
          "execution_count": 118
        }
      ]
    },
    {
      "cell_type": "code",
      "source": [
        "dataset['train']['story'][0]['text'][2]"
      ],
      "metadata": {
        "colab": {
          "base_uri": "https://localhost:8080/",
          "height": 35
        },
        "id": "uxWxofZf2m4O",
        "outputId": "450f0d5a-8bc4-4f28-caeb-4e7b43a28a4b"
      },
      "execution_count": null,
      "outputs": [
        {
          "output_type": "execute_result",
          "data": {
            "text/plain": [
              "'Where is Mary?'"
            ],
            "application/vnd.google.colaboratory.intrinsic+json": {
              "type": "string"
            }
          },
          "metadata": {},
          "execution_count": 119
        }
      ]
    },
    {
      "cell_type": "code",
      "source": [
        "dataset['train']['story'][0]['answer']"
      ],
      "metadata": {
        "colab": {
          "base_uri": "https://localhost:8080/"
        },
        "id": "yKB7gEAN2PEb",
        "outputId": "08761a41-f335-4d75-b327-1642d20175e3"
      },
      "execution_count": null,
      "outputs": [
        {
          "output_type": "execute_result",
          "data": {
            "text/plain": [
              "['',\n",
              " '',\n",
              " 'bathroom',\n",
              " '',\n",
              " '',\n",
              " 'hallway',\n",
              " '',\n",
              " '',\n",
              " 'hallway',\n",
              " '',\n",
              " '',\n",
              " 'office',\n",
              " '',\n",
              " '',\n",
              " 'bathroom']"
            ]
          },
          "metadata": {},
          "execution_count": 120
        }
      ]
    },
    {
      "cell_type": "code",
      "source": [
        "Answers = dataset['train']['story'][0]['answer']\n",
        "Answers = [item for item in Answers if item]\n",
        "Answers"
      ],
      "metadata": {
        "colab": {
          "base_uri": "https://localhost:8080/"
        },
        "id": "YyvoEF-_-FcP",
        "outputId": "6b456c18-6373-47aa-e6bd-7f4967366439"
      },
      "execution_count": null,
      "outputs": [
        {
          "output_type": "execute_result",
          "data": {
            "text/plain": [
              "['bathroom', 'hallway', 'hallway', 'office', 'bathroom']"
            ]
          },
          "metadata": {},
          "execution_count": 121
        }
      ]
    },
    {
      "cell_type": "code",
      "source": [
        "#!pip install nltk"
      ],
      "metadata": {
        "id": "3Tprhk4-BSTM"
      },
      "execution_count": null,
      "outputs": []
    },
    {
      "cell_type": "markdown",
      "source": [
        "## 🔴 Pre-processing"
      ],
      "metadata": {
        "id": "KKBedyPz8S_X"
      }
    },
    {
      "cell_type": "code",
      "source": [
        "import nltk\n",
        "from nltk.tokenize import word_tokenize"
      ],
      "metadata": {
        "id": "DAaiPTt4i0fw"
      },
      "execution_count": null,
      "outputs": []
    },
    {
      "cell_type": "code",
      "source": [
        "# Function extracts sub-stories within a story and creates tuples\n",
        "\n",
        "nltk.download('punkt')  # Download the punkt tokenizer data\n",
        "\n",
        "def tokenize_sentence(sentence):\n",
        "    return word_tokenize(sentence)\n",
        "\n",
        "def process_babi_dataset(dataset):\n",
        "    result = []\n",
        "\n",
        "    for example in dataset:\n",
        "        story = example['story']['text']\n",
        "        answer = example['story']['answer']\n",
        "        answers = [item for item in answer if item]\n",
        "\n",
        "        i = 0\n",
        "        while i < len(story):\n",
        "            segment = []\n",
        "            while i < len(story) and not story[i].endswith('?'):\n",
        "                segment.extend(tokenize_sentence(story[i]))\n",
        "                i += 1\n",
        "\n",
        "            if i < len(story):\n",
        "                question = tokenize_sentence(story[i])\n",
        "                answer = answers.pop(0)\n",
        "\n",
        "                result.append((segment, question, answer))\n",
        "\n",
        "            i += 1\n",
        "\n",
        "    return result\n"
      ],
      "metadata": {
        "colab": {
          "base_uri": "https://localhost:8080/"
        },
        "id": "-L0XXZuJimiH",
        "outputId": "d798c07a-2189-49c1-8979-6a5af8decec7"
      },
      "execution_count": null,
      "outputs": [
        {
          "output_type": "stream",
          "name": "stderr",
          "text": [
            "[nltk_data] Downloading package punkt to /root/nltk_data...\n",
            "[nltk_data]   Package punkt is already up-to-date!\n"
          ]
        }
      ]
    },
    {
      "cell_type": "code",
      "source": [
        "data_train = process_babi_dataset(dataset['train'])"
      ],
      "metadata": {
        "id": "MRcD_wqsg2go"
      },
      "execution_count": null,
      "outputs": []
    },
    {
      "cell_type": "code",
      "source": [
        "data_train[0]"
      ],
      "metadata": {
        "colab": {
          "base_uri": "https://localhost:8080/"
        },
        "id": "_S_DvxADhxRk",
        "outputId": "b627790e-85fb-49e3-bb99-368114bc78f4"
      },
      "execution_count": null,
      "outputs": [
        {
          "output_type": "execute_result",
          "data": {
            "text/plain": [
              "(['Mary',\n",
              "  'moved',\n",
              "  'to',\n",
              "  'the',\n",
              "  'bathroom',\n",
              "  '.',\n",
              "  'John',\n",
              "  'went',\n",
              "  'to',\n",
              "  'the',\n",
              "  'hallway',\n",
              "  '.'],\n",
              " ['Where', 'is', 'Mary', '?'],\n",
              " 'bathroom')"
            ]
          },
          "metadata": {},
          "execution_count": 126
        }
      ]
    },
    {
      "cell_type": "code",
      "source": [
        "len(data_train)"
      ],
      "metadata": {
        "colab": {
          "base_uri": "https://localhost:8080/"
        },
        "id": "HZWxSl3ZjRB-",
        "outputId": "ea708e60-f6b5-4018-84d3-40c425506bd6"
      },
      "execution_count": null,
      "outputs": [
        {
          "output_type": "execute_result",
          "data": {
            "text/plain": [
              "10000"
            ]
          },
          "metadata": {},
          "execution_count": 127
        }
      ]
    },
    {
      "cell_type": "code",
      "source": [
        "data_test = process_babi_dataset(dataset['test'])"
      ],
      "metadata": {
        "id": "Yua5TgyIh22f"
      },
      "execution_count": null,
      "outputs": []
    },
    {
      "cell_type": "code",
      "source": [
        "data_test[0]"
      ],
      "metadata": {
        "colab": {
          "base_uri": "https://localhost:8080/"
        },
        "id": "2_cq3F0tjBwC",
        "outputId": "30c142ba-b1d9-4493-94b7-963d16836271"
      },
      "execution_count": null,
      "outputs": [
        {
          "output_type": "execute_result",
          "data": {
            "text/plain": [
              "(['John',\n",
              "  'travelled',\n",
              "  'to',\n",
              "  'the',\n",
              "  'hallway',\n",
              "  '.',\n",
              "  'Mary',\n",
              "  'journeyed',\n",
              "  'to',\n",
              "  'the',\n",
              "  'bathroom',\n",
              "  '.'],\n",
              " ['Where', 'is', 'John', '?'],\n",
              " 'hallway')"
            ]
          },
          "metadata": {},
          "execution_count": 129
        }
      ]
    },
    {
      "cell_type": "code",
      "source": [
        "len(data_test)"
      ],
      "metadata": {
        "colab": {
          "base_uri": "https://localhost:8080/"
        },
        "id": "GDABlVK_jB7w",
        "outputId": "f339e562-ff81-442e-85d7-4eaf9ce89793"
      },
      "execution_count": null,
      "outputs": [
        {
          "output_type": "execute_result",
          "data": {
            "text/plain": [
              "1000"
            ]
          },
          "metadata": {},
          "execution_count": 130
        }
      ]
    },
    {
      "cell_type": "code",
      "source": [
        "' '.join(data_train[0][0])"
      ],
      "metadata": {
        "colab": {
          "base_uri": "https://localhost:8080/",
          "height": 35
        },
        "id": "4KLHGaiTjjLf",
        "outputId": "29332495-d828-4b91-cd98-c0de05909ca9"
      },
      "execution_count": null,
      "outputs": [
        {
          "output_type": "execute_result",
          "data": {
            "text/plain": [
              "'Mary moved to the bathroom . John went to the hallway .'"
            ],
            "application/vnd.google.colaboratory.intrinsic+json": {
              "type": "string"
            }
          },
          "metadata": {},
          "execution_count": 131
        }
      ]
    },
    {
      "cell_type": "code",
      "source": [
        "' '.join(data_train[0][1])"
      ],
      "metadata": {
        "colab": {
          "base_uri": "https://localhost:8080/",
          "height": 35
        },
        "id": "YfnOIvLijkiX",
        "outputId": "4ecdc84f-a832-4209-8af9-0e9a5dc429e5"
      },
      "execution_count": null,
      "outputs": [
        {
          "output_type": "execute_result",
          "data": {
            "text/plain": [
              "'Where is Mary ?'"
            ],
            "application/vnd.google.colaboratory.intrinsic+json": {
              "type": "string"
            }
          },
          "metadata": {},
          "execution_count": 132
        }
      ]
    },
    {
      "cell_type": "code",
      "source": [
        "data_train[0][2]"
      ],
      "metadata": {
        "colab": {
          "base_uri": "https://localhost:8080/",
          "height": 35
        },
        "id": "db3oDIz-j7CJ",
        "outputId": "236352ed-8553-4934-b465-945534c17a18"
      },
      "execution_count": null,
      "outputs": [
        {
          "output_type": "execute_result",
          "data": {
            "text/plain": [
              "'bathroom'"
            ],
            "application/vnd.google.colaboratory.intrinsic+json": {
              "type": "string"
            }
          },
          "metadata": {},
          "execution_count": 133
        }
      ]
    },
    {
      "cell_type": "markdown",
      "source": [
        "## 🔴 Build a vocab & Vectorization of stories"
      ],
      "metadata": {
        "id": "xWO4I2z38bLD"
      }
    },
    {
      "cell_type": "code",
      "source": [
        "all_data = data_train + data_test"
      ],
      "metadata": {
        "id": "snsh-3TpmEsP"
      },
      "execution_count": null,
      "outputs": []
    },
    {
      "cell_type": "code",
      "source": [
        "len(all_data)"
      ],
      "metadata": {
        "colab": {
          "base_uri": "https://localhost:8080/"
        },
        "id": "Q5DsPBFXsJfd",
        "outputId": "a7ef86d3-8f98-4a8c-fb02-548e30f9377a"
      },
      "execution_count": null,
      "outputs": [
        {
          "output_type": "execute_result",
          "data": {
            "text/plain": [
              "11000"
            ]
          },
          "metadata": {},
          "execution_count": 135
        }
      ]
    },
    {
      "cell_type": "code",
      "source": [
        "vocab = set()\n",
        "for story, q, answer in all_data:\n",
        "    vocab |= set(story + q + [answer])\n",
        "\n",
        "# sorting the vocabulary\n",
        "vocab = sorted(vocab)"
      ],
      "metadata": {
        "id": "NyljplGF_yCo"
      },
      "execution_count": null,
      "outputs": []
    },
    {
      "cell_type": "code",
      "source": [
        "vocab"
      ],
      "metadata": {
        "colab": {
          "base_uri": "https://localhost:8080/"
        },
        "id": "mnQRYwyd_yFT",
        "outputId": "e87f3429-f4b6-46c6-ab44-7f8e5b063c26"
      },
      "execution_count": null,
      "outputs": [
        {
          "output_type": "execute_result",
          "data": {
            "text/plain": [
              "['.',\n",
              " '?',\n",
              " 'Daniel',\n",
              " 'John',\n",
              " 'Mary',\n",
              " 'Sandra',\n",
              " 'Where',\n",
              " 'back',\n",
              " 'bathroom',\n",
              " 'bedroom',\n",
              " 'garden',\n",
              " 'hallway',\n",
              " 'is',\n",
              " 'journeyed',\n",
              " 'kitchen',\n",
              " 'moved',\n",
              " 'office',\n",
              " 'the',\n",
              " 'to',\n",
              " 'travelled',\n",
              " 'went']"
            ]
          },
          "metadata": {},
          "execution_count": 137
        }
      ]
    },
    {
      "cell_type": "code",
      "source": [
        "len(vocab)"
      ],
      "metadata": {
        "colab": {
          "base_uri": "https://localhost:8080/"
        },
        "id": "IY4pJR92_yHn",
        "outputId": "88745a6c-33cf-4870-a6d7-c5f929915d27"
      },
      "execution_count": null,
      "outputs": [
        {
          "output_type": "execute_result",
          "data": {
            "text/plain": [
              "21"
            ]
          },
          "metadata": {},
          "execution_count": 138
        }
      ]
    },
    {
      "cell_type": "code",
      "source": [
        "vocab_len = len(vocab) + 1"
      ],
      "metadata": {
        "id": "akWAXgDCxj9Z"
      },
      "execution_count": null,
      "outputs": []
    },
    {
      "cell_type": "code",
      "source": [
        "vocab_len"
      ],
      "metadata": {
        "colab": {
          "base_uri": "https://localhost:8080/"
        },
        "id": "rfzcgfEHxkBc",
        "outputId": "2c0b5c95-48ba-408e-c336-b56fb05100aa"
      },
      "execution_count": null,
      "outputs": [
        {
          "output_type": "execute_result",
          "data": {
            "text/plain": [
              "22"
            ]
          },
          "metadata": {},
          "execution_count": 140
        }
      ]
    },
    {
      "cell_type": "code",
      "source": [
        "all_srory_lens = [len(data[0]) for data in all_data]"
      ],
      "metadata": {
        "id": "iNQzT6XHxkFJ"
      },
      "execution_count": null,
      "outputs": []
    },
    {
      "cell_type": "code",
      "source": [
        "story_maxlen = max(all_srory_lens)\n",
        "story_maxlen"
      ],
      "metadata": {
        "colab": {
          "base_uri": "https://localhost:8080/"
        },
        "id": "3CoVYJfr9rZh",
        "outputId": "669bf6cc-61cd-4a89-8ae3-d08920f2d43e"
      },
      "execution_count": null,
      "outputs": [
        {
          "output_type": "execute_result",
          "data": {
            "text/plain": [
              "14"
            ]
          },
          "metadata": {},
          "execution_count": 142
        }
      ]
    },
    {
      "cell_type": "code",
      "source": [
        "all_question_lens = [len(data[1]) for data in all_data]"
      ],
      "metadata": {
        "id": "3zORtdFNA-by"
      },
      "execution_count": null,
      "outputs": []
    },
    {
      "cell_type": "code",
      "source": [
        "question_maxlen = max(all_question_lens)\n",
        "question_maxlen"
      ],
      "metadata": {
        "colab": {
          "base_uri": "https://localhost:8080/"
        },
        "id": "3OlygA6YB2RT",
        "outputId": "0be35e1c-ea58-4232-ad61-5fc07f83284b"
      },
      "execution_count": null,
      "outputs": [
        {
          "output_type": "execute_result",
          "data": {
            "text/plain": [
              "4"
            ]
          },
          "metadata": {},
          "execution_count": 144
        }
      ]
    },
    {
      "cell_type": "code",
      "source": [
        "tokenizer = Tokenizer(filters=[])\n",
        "tokenizer.fit_on_texts(vocab)"
      ],
      "metadata": {
        "id": "vAOs-f9FCCFA"
      },
      "execution_count": null,
      "outputs": []
    },
    {
      "cell_type": "code",
      "source": [
        "tokenizer.word_index"
      ],
      "metadata": {
        "id": "1bvLQC5-CCHf",
        "colab": {
          "base_uri": "https://localhost:8080/"
        },
        "outputId": "166e1790-9afd-4550-ab37-59712332bece"
      },
      "execution_count": null,
      "outputs": [
        {
          "output_type": "execute_result",
          "data": {
            "text/plain": [
              "{'.': 1,\n",
              " '?': 2,\n",
              " 'daniel': 3,\n",
              " 'john': 4,\n",
              " 'mary': 5,\n",
              " 'sandra': 6,\n",
              " 'where': 7,\n",
              " 'back': 8,\n",
              " 'bathroom': 9,\n",
              " 'bedroom': 10,\n",
              " 'garden': 11,\n",
              " 'hallway': 12,\n",
              " 'is': 13,\n",
              " 'journeyed': 14,\n",
              " 'kitchen': 15,\n",
              " 'moved': 16,\n",
              " 'office': 17,\n",
              " 'the': 18,\n",
              " 'to': 19,\n",
              " 'travelled': 20,\n",
              " 'went': 21}"
            ]
          },
          "metadata": {},
          "execution_count": 146
        }
      ]
    },
    {
      "cell_type": "code",
      "source": [
        "train_story_text = []\n",
        "train_question_text = []\n",
        "train_answer = []\n",
        "\n",
        "for story, q, answer in data_train:\n",
        "    train_story_text.append(story)\n",
        "    train_question_text.append(q)\n",
        "    train_answer.append(answer)"
      ],
      "metadata": {
        "id": "lYwK6FqVB74G"
      },
      "execution_count": null,
      "outputs": []
    },
    {
      "cell_type": "code",
      "source": [
        "#train_story_text"
      ],
      "metadata": {
        "id": "dZUXxyjEB77I"
      },
      "execution_count": null,
      "outputs": []
    },
    {
      "cell_type": "code",
      "source": [
        "train_story_seq = tokenizer.texts_to_sequences(train_story_text)"
      ],
      "metadata": {
        "id": "cA3Pi2PHB7-F"
      },
      "execution_count": null,
      "outputs": []
    },
    {
      "cell_type": "code",
      "source": [
        "len(train_story_seq)"
      ],
      "metadata": {
        "id": "rENlpNsECCJy",
        "colab": {
          "base_uri": "https://localhost:8080/"
        },
        "outputId": "9b5f241a-e5de-49b3-ccab-add92d8dcebb"
      },
      "execution_count": null,
      "outputs": [
        {
          "output_type": "execute_result",
          "data": {
            "text/plain": [
              "10000"
            ]
          },
          "metadata": {},
          "execution_count": 150
        }
      ]
    },
    {
      "cell_type": "code",
      "source": [
        "data_train[0][0]"
      ],
      "metadata": {
        "colab": {
          "base_uri": "https://localhost:8080/"
        },
        "id": "QgeZkdLKGz9F",
        "outputId": "a08535f4-8133-4914-83cb-68cfb479f00c"
      },
      "execution_count": null,
      "outputs": [
        {
          "output_type": "execute_result",
          "data": {
            "text/plain": [
              "['Mary',\n",
              " 'moved',\n",
              " 'to',\n",
              " 'the',\n",
              " 'bathroom',\n",
              " '.',\n",
              " 'John',\n",
              " 'went',\n",
              " 'to',\n",
              " 'the',\n",
              " 'hallway',\n",
              " '.']"
            ]
          },
          "metadata": {},
          "execution_count": 151
        }
      ]
    },
    {
      "cell_type": "code",
      "source": [
        "train_story_seq[0]"
      ],
      "metadata": {
        "id": "zHBz4NPmCCNj",
        "colab": {
          "base_uri": "https://localhost:8080/"
        },
        "outputId": "3de9ce6d-8f9d-4772-c670-9208cd9e4304"
      },
      "execution_count": null,
      "outputs": [
        {
          "output_type": "execute_result",
          "data": {
            "text/plain": [
              "[5, 16, 19, 18, 9, 1, 4, 21, 19, 18, 12, 1]"
            ]
          },
          "metadata": {},
          "execution_count": 152
        }
      ]
    },
    {
      "cell_type": "code",
      "source": [
        "def vectorize_stories(data, word_idx=tokenizer.word_index, story_maxlen=story_maxlen, question_maxlen=question_maxlen):\n",
        "    # story vector initialization\n",
        "    X = []\n",
        "    # question vector initialization\n",
        "    Xq = []\n",
        "    # answer vector intialization\n",
        "    Y = []\n",
        "    for story, q, answer in data:\n",
        "        # creating list of story word indices\n",
        "        x = [word_idx[w.lower()] for w in story]\n",
        "        # creating list of question word indices\n",
        "        xq = [word_idx[w.lower()] for w in q]\n",
        "        # let's not forget that index 0 is reserved\n",
        "        y = np.zeros(len(word_idx) + 1)\n",
        "        # creating label 1 for the answer word index\n",
        "        y[word_idx[answer]] = 1\n",
        "        X.append(x)\n",
        "        Xq.append(xq)\n",
        "        Y.append(y)\n",
        "    return (pad_sequences(X, maxlen=story_maxlen),\n",
        "            pad_sequences(Xq, maxlen=question_maxlen), np.array(Y))"
      ],
      "metadata": {
        "id": "S7_fD3mLCCPz"
      },
      "execution_count": null,
      "outputs": []
    },
    {
      "cell_type": "code",
      "source": [
        "# vectorize train story, query and answer sentences/word using vocab\n",
        "inputs_train, queries_train, answers_train = vectorize_stories(data_train)"
      ],
      "metadata": {
        "id": "28cjfJeIK0DR"
      },
      "execution_count": null,
      "outputs": []
    },
    {
      "cell_type": "code",
      "source": [
        "# vectorize test story, query and answer sentences/word using vocab\n",
        "inputs_test, queries_test, answers_test = vectorize_stories(data_test)"
      ],
      "metadata": {
        "id": "fNExtCHQMsvv"
      },
      "execution_count": null,
      "outputs": []
    },
    {
      "cell_type": "code",
      "source": [
        "inputs_train"
      ],
      "metadata": {
        "colab": {
          "base_uri": "https://localhost:8080/"
        },
        "id": "5LXidq9pKiKH",
        "outputId": "9b1f4bb8-075b-4f3a-f8b3-579541cffccb"
      },
      "execution_count": null,
      "outputs": [
        {
          "output_type": "execute_result",
          "data": {
            "text/plain": [
              "array([[ 0,  0,  5, ..., 18, 12,  1],\n",
              "       [ 0,  3, 21, ..., 18, 11,  1],\n",
              "       [ 0,  0,  4, ..., 18,  9,  1],\n",
              "       ...,\n",
              "       [ 6, 21,  8, ..., 18, 15,  1],\n",
              "       [ 0,  3, 21, ..., 18,  9,  1],\n",
              "       [ 0,  4, 21, ..., 18, 10,  1]], dtype=int32)"
            ]
          },
          "metadata": {},
          "execution_count": 156
        }
      ]
    },
    {
      "cell_type": "code",
      "source": [
        "queries_train"
      ],
      "metadata": {
        "colab": {
          "base_uri": "https://localhost:8080/"
        },
        "id": "DPzsWyJIryCu",
        "outputId": "777de90e-2f8a-42c4-fd7c-ec7c448f3b4f"
      },
      "execution_count": null,
      "outputs": [
        {
          "output_type": "execute_result",
          "data": {
            "text/plain": [
              "array([[ 7, 13,  5,  2],\n",
              "       [ 7, 13,  3,  2],\n",
              "       [ 7, 13,  3,  2],\n",
              "       ...,\n",
              "       [ 7, 13,  5,  2],\n",
              "       [ 7, 13,  4,  2],\n",
              "       [ 7, 13,  4,  2]], dtype=int32)"
            ]
          },
          "metadata": {},
          "execution_count": 157
        }
      ]
    },
    {
      "cell_type": "code",
      "source": [
        "answers_train"
      ],
      "metadata": {
        "colab": {
          "base_uri": "https://localhost:8080/"
        },
        "id": "R3nptQwNKiMT",
        "outputId": "9730f66f-978c-418c-f06d-b3c4ccd382c2"
      },
      "execution_count": null,
      "outputs": [
        {
          "output_type": "execute_result",
          "data": {
            "text/plain": [
              "array([[0., 0., 0., ..., 0., 0., 0.],\n",
              "       [0., 0., 0., ..., 0., 0., 0.],\n",
              "       [0., 0., 0., ..., 0., 0., 0.],\n",
              "       ...,\n",
              "       [0., 0., 0., ..., 0., 0., 0.],\n",
              "       [0., 0., 0., ..., 0., 0., 0.],\n",
              "       [0., 0., 0., ..., 0., 0., 0.]])"
            ]
          },
          "metadata": {},
          "execution_count": 158
        }
      ]
    },
    {
      "cell_type": "code",
      "source": [
        "inputs_train[0]"
      ],
      "metadata": {
        "colab": {
          "base_uri": "https://localhost:8080/"
        },
        "id": "2ux6AI1MOLZS",
        "outputId": "ebaa5f9a-2311-4475-9f04-3c6003f5f402"
      },
      "execution_count": null,
      "outputs": [
        {
          "output_type": "execute_result",
          "data": {
            "text/plain": [
              "array([ 0,  0,  5, 16, 19, 18,  9,  1,  4, 21, 19, 18, 12,  1],\n",
              "      dtype=int32)"
            ]
          },
          "metadata": {},
          "execution_count": 159
        }
      ]
    },
    {
      "cell_type": "code",
      "source": [
        "queries_train[0]"
      ],
      "metadata": {
        "colab": {
          "base_uri": "https://localhost:8080/"
        },
        "id": "xBD4xhdfr4uH",
        "outputId": "6ba2774f-77aa-4c51-8744-39caed06a6ac"
      },
      "execution_count": null,
      "outputs": [
        {
          "output_type": "execute_result",
          "data": {
            "text/plain": [
              "array([ 7, 13,  5,  2], dtype=int32)"
            ]
          },
          "metadata": {},
          "execution_count": 160
        }
      ]
    },
    {
      "cell_type": "code",
      "source": [
        "answers_train[0]"
      ],
      "metadata": {
        "colab": {
          "base_uri": "https://localhost:8080/"
        },
        "id": "BtsmPoFXr8Hg",
        "outputId": "6158f595-7a4f-4d65-c1fd-1448422c13f7"
      },
      "execution_count": null,
      "outputs": [
        {
          "output_type": "execute_result",
          "data": {
            "text/plain": [
              "array([0., 0., 0., 0., 0., 0., 0., 0., 0., 1., 0., 0., 0., 0., 0., 0., 0.,\n",
              "       0., 0., 0., 0., 0.])"
            ]
          },
          "metadata": {},
          "execution_count": 161
        }
      ]
    },
    {
      "cell_type": "code",
      "source": [
        "inputs_train[1]"
      ],
      "metadata": {
        "colab": {
          "base_uri": "https://localhost:8080/"
        },
        "id": "6nEw6Qg0O-Oy",
        "outputId": "fd6de7fe-63fa-4364-f2c9-348ed659c32e"
      },
      "execution_count": null,
      "outputs": [
        {
          "output_type": "execute_result",
          "data": {
            "text/plain": [
              "array([ 0,  3, 21,  8, 19, 18, 12,  1,  6, 16, 19, 18, 11,  1],\n",
              "      dtype=int32)"
            ]
          },
          "metadata": {},
          "execution_count": 162
        }
      ]
    },
    {
      "cell_type": "code",
      "source": [
        "inputs_train[2]"
      ],
      "metadata": {
        "colab": {
          "base_uri": "https://localhost:8080/"
        },
        "id": "fMhE63o9O-SR",
        "outputId": "697c1873-d737-4ded-c443-0c6a766e896f"
      },
      "execution_count": null,
      "outputs": [
        {
          "output_type": "execute_result",
          "data": {
            "text/plain": [
              "array([ 0,  0,  4, 16, 19, 18, 17,  1,  6, 14, 19, 18,  9,  1],\n",
              "      dtype=int32)"
            ]
          },
          "metadata": {},
          "execution_count": 163
        }
      ]
    },
    {
      "cell_type": "code",
      "source": [
        "answers_train[0]"
      ],
      "metadata": {
        "colab": {
          "base_uri": "https://localhost:8080/"
        },
        "id": "yko3VgKVNnOJ",
        "outputId": "e49ea3a9-e14b-4e39-8eda-72a62bfe73e5"
      },
      "execution_count": null,
      "outputs": [
        {
          "output_type": "execute_result",
          "data": {
            "text/plain": [
              "array([0., 0., 0., 0., 0., 0., 0., 0., 0., 1., 0., 0., 0., 0., 0., 0., 0.,\n",
              "       0., 0., 0., 0., 0.])"
            ]
          },
          "metadata": {},
          "execution_count": 164
        }
      ]
    },
    {
      "cell_type": "code",
      "source": [
        "tokenizer.word_index['bathroom']"
      ],
      "metadata": {
        "colab": {
          "base_uri": "https://localhost:8080/"
        },
        "id": "PLUa1_nMNEdu",
        "outputId": "a5da0488-c454-4acf-9f7a-6cf3029b78eb"
      },
      "execution_count": null,
      "outputs": [
        {
          "output_type": "execute_result",
          "data": {
            "text/plain": [
              "9"
            ]
          },
          "metadata": {},
          "execution_count": 165
        }
      ]
    },
    {
      "cell_type": "code",
      "source": [
        "tokenizer.word_index['bedroom']"
      ],
      "metadata": {
        "colab": {
          "base_uri": "https://localhost:8080/"
        },
        "id": "W1By9hxVPjiw",
        "outputId": "99ed0f35-9afc-4ada-ea31-65448b3e4b9a"
      },
      "execution_count": null,
      "outputs": [
        {
          "output_type": "execute_result",
          "data": {
            "text/plain": [
              "10"
            ]
          },
          "metadata": {},
          "execution_count": 166
        }
      ]
    },
    {
      "cell_type": "code",
      "source": [
        "tokenizer.word_index['garden']"
      ],
      "metadata": {
        "colab": {
          "base_uri": "https://localhost:8080/"
        },
        "id": "ualgxLRuPjlO",
        "outputId": "07acd979-ba2b-43fc-ca1c-bfe2eb90b186"
      },
      "execution_count": null,
      "outputs": [
        {
          "output_type": "execute_result",
          "data": {
            "text/plain": [
              "11"
            ]
          },
          "metadata": {},
          "execution_count": 167
        }
      ]
    },
    {
      "cell_type": "code",
      "source": [
        "tokenizer.word_index['hallway']"
      ],
      "metadata": {
        "colab": {
          "base_uri": "https://localhost:8080/"
        },
        "id": "EXi_Fq2WPjnQ",
        "outputId": "0a02e7de-c635-44bf-a874-c8b6eaa51c25"
      },
      "execution_count": null,
      "outputs": [
        {
          "output_type": "execute_result",
          "data": {
            "text/plain": [
              "12"
            ]
          },
          "metadata": {},
          "execution_count": 168
        }
      ]
    },
    {
      "cell_type": "code",
      "source": [
        "tokenizer.word_index['kitchen']"
      ],
      "metadata": {
        "colab": {
          "base_uri": "https://localhost:8080/"
        },
        "id": "jrHSwkSbPwxe",
        "outputId": "8f9864f4-62bb-4e59-9a70-abd375582b1a"
      },
      "execution_count": null,
      "outputs": [
        {
          "output_type": "execute_result",
          "data": {
            "text/plain": [
              "15"
            ]
          },
          "metadata": {},
          "execution_count": 169
        }
      ]
    },
    {
      "cell_type": "code",
      "source": [
        "tokenizer.word_index['office']"
      ],
      "metadata": {
        "colab": {
          "base_uri": "https://localhost:8080/"
        },
        "id": "Acl-W9MEPw0e",
        "outputId": "4cd44fa9-83cb-4b20-e31e-185ca22dd73c"
      },
      "execution_count": null,
      "outputs": [
        {
          "output_type": "execute_result",
          "data": {
            "text/plain": [
              "17"
            ]
          },
          "metadata": {},
          "execution_count": 170
        }
      ]
    },
    {
      "cell_type": "code",
      "source": [
        "sum(answers_test)"
      ],
      "metadata": {
        "colab": {
          "base_uri": "https://localhost:8080/"
        },
        "id": "7bSOEgejNEgc",
        "outputId": "7f6d0943-7fb5-437d-d94a-0f0f2ac9d338"
      },
      "execution_count": null,
      "outputs": [
        {
          "output_type": "execute_result",
          "data": {
            "text/plain": [
              "array([  0.,   0.,   0.,   0.,   0.,   0.,   0.,   0.,   0., 149., 171.,\n",
              "       187., 154.,   0.,   0., 157.,   0., 182.,   0.,   0.,   0.,   0.])"
            ]
          },
          "metadata": {},
          "execution_count": 171
        }
      ]
    },
    {
      "cell_type": "code",
      "source": [
        "queries_train[0]"
      ],
      "metadata": {
        "colab": {
          "base_uri": "https://localhost:8080/"
        },
        "id": "DkSXhHnDNEjO",
        "outputId": "5b3c7da0-5d4b-4e94-8d89-6c514bb78f21"
      },
      "execution_count": null,
      "outputs": [
        {
          "output_type": "execute_result",
          "data": {
            "text/plain": [
              "array([ 7, 13,  5,  2], dtype=int32)"
            ]
          },
          "metadata": {},
          "execution_count": 172
        }
      ]
    },
    {
      "cell_type": "markdown",
      "source": [
        "## 🔴 Define and Train the model\n",
        "* End-To-End Memory Networks\n",
        "####  Assume we have input context C and memory M represented as vectors or sequences\n",
        "#### You may need to preprocess your data to obtain embeddings, for example, using word embeddings for text data\n",
        "\n",
        "#### Context Embedding (Embedding C)\n",
        "#### Memory Embedding (Embedding M)"
      ],
      "metadata": {
        "id": "O5NfI7E5upHW"
      }
    },
    {
      "cell_type": "markdown",
      "source": [
        "https://arxiv.org/pdf/1503.08895.pdf"
      ],
      "metadata": {
        "id": "tabZ3A4678Kl"
      }
    },
    {
      "cell_type": "code",
      "source": [
        "#!pip install tensorflow\n",
        "# or\n",
        "#!pip install keras"
      ],
      "metadata": {
        "id": "7vLVy8ubvnAY"
      },
      "execution_count": null,
      "outputs": []
    },
    {
      "cell_type": "code",
      "source": [
        "from tensorflow.keras.models import Sequential, Model\n",
        "from tensorflow.keras.layers import Embedding, Input, Activation, Dense, Dropout, Permute, add, dot, concatenate, LSTM"
      ],
      "metadata": {
        "id": "oNpT3GZTKiOl"
      },
      "execution_count": null,
      "outputs": []
    },
    {
      "cell_type": "code",
      "source": [
        "# placeholders, shape(story_maxlen, batch_size)\n",
        "input_sequence = Input((story_maxlen,))\n",
        "# shape(question_maxlen, batch_size)\n",
        "question = Input((question_maxlen,))\n",
        "\n",
        "print('Input sequence:', input_sequence)\n",
        "print('Question:', question)"
      ],
      "metadata": {
        "colab": {
          "base_uri": "https://localhost:8080/"
        },
        "id": "cjCY4IXEwNEp",
        "outputId": "90101e0f-48bb-4b0d-dfe9-0c7eccde0d7b"
      },
      "execution_count": null,
      "outputs": [
        {
          "output_type": "stream",
          "name": "stdout",
          "text": [
            "Input sequence: KerasTensor(type_spec=TensorSpec(shape=(None, 14), dtype=tf.float32, name='input_3'), name='input_3', description=\"created by layer 'input_3'\")\n",
            "Question: KerasTensor(type_spec=TensorSpec(shape=(None, 4), dtype=tf.float32, name='input_4'), name='input_4', description=\"created by layer 'input_4'\")\n"
          ]
        }
      ]
    },
    {
      "cell_type": "code",
      "source": [
        "# number of epochs to run\n",
        "train_epochs = 50\n",
        "# Training batch size\n",
        "batch_size = 32\n",
        "# Hidden embedding size\n",
        "embed_size = 64\n",
        "# number of nodes in LSTM layer\n",
        "lstm_size = 64\n",
        "# dropout rate\n",
        "dropout_rate = 0.3"
      ],
      "metadata": {
        "id": "rtperAl_zK_x"
      },
      "execution_count": null,
      "outputs": []
    },
    {
      "cell_type": "code",
      "source": [
        "# encoder M\n",
        "# embed the input sequence into a sequence of vectors\n",
        "input_encoder_m = Sequential()\n",
        "input_encoder_m.add(Embedding(input_dim=vocab_len,\n",
        "                              output_dim=embed_size))\n",
        "input_encoder_m.add(Dropout(dropout_rate))\n",
        "# output: (samples, story_maxlen, embedding_dim)"
      ],
      "metadata": {
        "id": "a8ThGORlwNHI"
      },
      "execution_count": null,
      "outputs": []
    },
    {
      "cell_type": "code",
      "source": [
        "# encoder C\n",
        "# embed the input into a sequence of vectors of size query_maxlen\n",
        "input_encoder_c = Sequential()\n",
        "input_encoder_c.add(Embedding(input_dim=vocab_len,\n",
        "                              output_dim=question_maxlen))\n",
        "input_encoder_c.add(Dropout(dropout_rate))\n",
        "# output: (samples, story_maxlen, query_maxlen)"
      ],
      "metadata": {
        "id": "ZntxP3gpwNJe"
      },
      "execution_count": null,
      "outputs": []
    },
    {
      "cell_type": "code",
      "source": [
        "# embed the question into a sequence of vectors\n",
        "question_encoder = Sequential()\n",
        "question_encoder.add(Embedding(input_dim=vocab_len,\n",
        "                               output_dim=embed_size,\n",
        "                               input_length=question_maxlen))\n",
        "question_encoder.add(Dropout(dropout_rate))\n",
        "# output: (samples, query_maxlen, embedding_dim)"
      ],
      "metadata": {
        "id": "lnnjSyUZwNOT"
      },
      "execution_count": null,
      "outputs": []
    },
    {
      "cell_type": "code",
      "source": [
        "# encode input sequence and questions (which are indices)\n",
        "# to sequences of dense vectors\n",
        "input_encoded_m = input_encoder_m(input_sequence)\n",
        "print('Input encoded m', input_encoded_m)\n",
        "input_encoded_c = input_encoder_c(input_sequence)\n",
        "print('Input encoded c', input_encoded_c)\n",
        "question_encoded = question_encoder(question)\n",
        "print('Question encoded', question_encoded)"
      ],
      "metadata": {
        "colab": {
          "base_uri": "https://localhost:8080/"
        },
        "id": "OrWP8VwU07YE",
        "outputId": "5b3dd697-0698-4c20-d35e-cc2c93442814"
      },
      "execution_count": null,
      "outputs": [
        {
          "output_type": "stream",
          "name": "stdout",
          "text": [
            "Input encoded m KerasTensor(type_spec=TensorSpec(shape=(None, 14, 64), dtype=tf.float32, name=None), name='sequential_3/dropout_4/Identity:0', description=\"created by layer 'sequential_3'\")\n",
            "Input encoded c KerasTensor(type_spec=TensorSpec(shape=(None, 14, 4), dtype=tf.float32, name=None), name='sequential_4/dropout_5/Identity:0', description=\"created by layer 'sequential_4'\")\n",
            "Question encoded KerasTensor(type_spec=TensorSpec(shape=(None, 4, 64), dtype=tf.float32, name=None), name='sequential_5/dropout_6/Identity:0', description=\"created by layer 'sequential_5'\")\n"
          ]
        }
      ]
    },
    {
      "cell_type": "code",
      "source": [
        "# compute a 'match' between the first input vector sequence\n",
        "# and the question vector sequence\n",
        "# shape: `(samples, story_maxlen, query_maxlen)\n",
        "    ### Attention\n",
        "match = dot([input_encoded_m, question_encoded], axes=-1, normalize=False)\n",
        "print(match.shape)\n",
        "match = Activation('softmax')(match)\n",
        "print('Match shape', match)"
      ],
      "metadata": {
        "colab": {
          "base_uri": "https://localhost:8080/"
        },
        "id": "Nlwrr-ep07bC",
        "outputId": "3c010e39-aebe-4e43-e705-34272a9323f1"
      },
      "execution_count": null,
      "outputs": [
        {
          "output_type": "stream",
          "name": "stdout",
          "text": [
            "(None, 14, 4)\n",
            "Match shape KerasTensor(type_spec=TensorSpec(shape=(None, 14, 4), dtype=tf.float32, name=None), name='activation_2/Softmax:0', description=\"created by layer 'activation_2'\")\n"
          ]
        }
      ]
    },
    {
      "cell_type": "code",
      "source": [
        "# add the match matrix with the second input vector sequence\n",
        "response = add([match, input_encoded_c])  # (samples, story_maxlen, query_maxlen)\n",
        "response = Permute((2, 1))(response)  # (samples, query_maxlen, story_maxlen)\n",
        "print('Response shape', response)"
      ],
      "metadata": {
        "colab": {
          "base_uri": "https://localhost:8080/"
        },
        "id": "RSn6N9HB1c5f",
        "outputId": "f58ceac8-17b7-4dfb-bf5a-fc0844b0b3cc"
      },
      "execution_count": null,
      "outputs": [
        {
          "output_type": "stream",
          "name": "stdout",
          "text": [
            "Response shape KerasTensor(type_spec=TensorSpec(shape=(None, 4, 14), dtype=tf.float32, name=None), name='permute_1/transpose:0', description=\"created by layer 'permute_1'\")\n"
          ]
        }
      ]
    },
    {
      "cell_type": "code",
      "source": [
        "# concatenate the response vector with the question vector sequence\n",
        "answer = concatenate([response, question_encoded])\n",
        "print('Answer shape', answer)"
      ],
      "metadata": {
        "colab": {
          "base_uri": "https://localhost:8080/"
        },
        "id": "DWxsbjZO1c8Q",
        "outputId": "7748561e-c43b-43c3-8bb9-c004239dfa9c"
      },
      "execution_count": null,
      "outputs": [
        {
          "output_type": "stream",
          "name": "stdout",
          "text": [
            "Answer shape KerasTensor(type_spec=TensorSpec(shape=(None, 4, 78), dtype=tf.float32, name=None), name='concatenate_1/concat:0', description=\"created by layer 'concatenate_1'\")\n"
          ]
        }
      ]
    },
    {
      "cell_type": "code",
      "source": [
        "answer = LSTM(lstm_size)(answer)  # Generate tensors of shape 32\n",
        "answer = Dropout(dropout_rate)(answer)\n",
        "answer = Dense(vocab_len)(answer)  # (samples, vocab_size)\n",
        "# we output a probability distribution over the vocabulary\n",
        "answer = Activation('softmax')(answer)"
      ],
      "metadata": {
        "id": "HdWTfaEo19Zp"
      },
      "execution_count": null,
      "outputs": []
    },
    {
      "cell_type": "code",
      "source": [
        "# build the final model\n",
        "model = Model([input_sequence, question], answer)\n",
        "model.compile(optimizer='rmsprop', loss='categorical_crossentropy',\n",
        "              metrics=['accuracy'])\n",
        "\n",
        "print(model.summary())"
      ],
      "metadata": {
        "colab": {
          "base_uri": "https://localhost:8080/"
        },
        "id": "p10Inr6V19cq",
        "outputId": "d89584ea-8c93-4bf9-ab89-97665902eccd"
      },
      "execution_count": null,
      "outputs": [
        {
          "output_type": "stream",
          "name": "stdout",
          "text": [
            "Model: \"model_1\"\n",
            "__________________________________________________________________________________________________\n",
            " Layer (type)                Output Shape                 Param #   Connected to                  \n",
            "==================================================================================================\n",
            " input_3 (InputLayer)        [(None, 14)]                 0         []                            \n",
            "                                                                                                  \n",
            " input_4 (InputLayer)        [(None, 4)]                  0         []                            \n",
            "                                                                                                  \n",
            " sequential_3 (Sequential)   (None, None, 64)             1408      ['input_3[0][0]']             \n",
            "                                                                                                  \n",
            " sequential_5 (Sequential)   (None, 4, 64)                1408      ['input_4[0][0]']             \n",
            "                                                                                                  \n",
            " dot_1 (Dot)                 (None, 14, 4)                0         ['sequential_3[0][0]',        \n",
            "                                                                     'sequential_5[0][0]']        \n",
            "                                                                                                  \n",
            " activation_2 (Activation)   (None, 14, 4)                0         ['dot_1[0][0]']               \n",
            "                                                                                                  \n",
            " sequential_4 (Sequential)   (None, None, 4)              88        ['input_3[0][0]']             \n",
            "                                                                                                  \n",
            " add_1 (Add)                 (None, 14, 4)                0         ['activation_2[0][0]',        \n",
            "                                                                     'sequential_4[0][0]']        \n",
            "                                                                                                  \n",
            " permute_1 (Permute)         (None, 4, 14)                0         ['add_1[0][0]']               \n",
            "                                                                                                  \n",
            " concatenate_1 (Concatenate  (None, 4, 78)                0         ['permute_1[0][0]',           \n",
            " )                                                                   'sequential_5[0][0]']        \n",
            "                                                                                                  \n",
            " lstm_1 (LSTM)               (None, 64)                   36608     ['concatenate_1[0][0]']       \n",
            "                                                                                                  \n",
            " dropout_7 (Dropout)         (None, 64)                   0         ['lstm_1[0][0]']              \n",
            "                                                                                                  \n",
            " dense_1 (Dense)             (None, 22)                   1430      ['dropout_7[0][0]']           \n",
            "                                                                                                  \n",
            " activation_3 (Activation)   (None, 22)                   0         ['dense_1[0][0]']             \n",
            "                                                                                                  \n",
            "==================================================================================================\n",
            "Total params: 40942 (159.93 KB)\n",
            "Trainable params: 40942 (159.93 KB)\n",
            "Non-trainable params: 0 (0.00 Byte)\n",
            "__________________________________________________________________________________________________\n",
            "None\n"
          ]
        }
      ]
    },
    {
      "cell_type": "markdown",
      "source": [
        "## 🔴 Training the Model"
      ],
      "metadata": {
        "id": "HqNmec4s33LV"
      }
    },
    {
      "cell_type": "code",
      "source": [
        "# start training the model\n",
        "history = model.fit([inputs_train, queries_train], answers_train,\n",
        "                    batch_size=batch_size,\n",
        "                    epochs=train_epochs,\n",
        "                    validation_data=([inputs_test, queries_test], answers_test))\n",
        "\n",
        "# save model\n",
        "model.save('model.h5')"
      ],
      "metadata": {
        "colab": {
          "base_uri": "https://localhost:8080/"
        },
        "id": "BVrId11V19fL",
        "outputId": "a507ccba-04bc-4312-b2a4-c421dcad1eab"
      },
      "execution_count": null,
      "outputs": [
        {
          "output_type": "stream",
          "name": "stdout",
          "text": [
            "Epoch 1/50\n",
            "313/313 [==============================] - 12s 18ms/step - loss: 1.9044 - accuracy: 0.1718 - val_loss: 1.7828 - val_accuracy: 0.2040\n",
            "Epoch 2/50\n",
            "313/313 [==============================] - 2s 7ms/step - loss: 1.7366 - accuracy: 0.2512 - val_loss: 1.6141 - val_accuracy: 0.3630\n",
            "Epoch 3/50\n",
            "313/313 [==============================] - 3s 10ms/step - loss: 1.5915 - accuracy: 0.3706 - val_loss: 1.5079 - val_accuracy: 0.4120\n",
            "Epoch 4/50\n",
            "313/313 [==============================] - 2s 7ms/step - loss: 1.5408 - accuracy: 0.4077 - val_loss: 1.5119 - val_accuracy: 0.4240\n",
            "Epoch 5/50\n",
            "313/313 [==============================] - 2s 7ms/step - loss: 1.5216 - accuracy: 0.4190 - val_loss: 1.4758 - val_accuracy: 0.4390\n",
            "Epoch 6/50\n",
            "313/313 [==============================] - 2s 7ms/step - loss: 1.4998 - accuracy: 0.4376 - val_loss: 1.4403 - val_accuracy: 0.4820\n",
            "Epoch 7/50\n",
            "313/313 [==============================] - 2s 7ms/step - loss: 1.4748 - accuracy: 0.4535 - val_loss: 1.4054 - val_accuracy: 0.5040\n",
            "Epoch 8/50\n",
            "313/313 [==============================] - 3s 10ms/step - loss: 1.4210 - accuracy: 0.4811 - val_loss: 1.4216 - val_accuracy: 0.5030\n",
            "Epoch 9/50\n",
            "313/313 [==============================] - 2s 8ms/step - loss: 1.3938 - accuracy: 0.4921 - val_loss: 1.3625 - val_accuracy: 0.5080\n",
            "Epoch 10/50\n",
            "313/313 [==============================] - 2s 7ms/step - loss: 1.3711 - accuracy: 0.4975 - val_loss: 1.3370 - val_accuracy: 0.5080\n",
            "Epoch 11/50\n",
            "313/313 [==============================] - 2s 7ms/step - loss: 1.3602 - accuracy: 0.5019 - val_loss: 1.3299 - val_accuracy: 0.5230\n",
            "Epoch 12/50\n",
            "313/313 [==============================] - 2s 7ms/step - loss: 1.3434 - accuracy: 0.5060 - val_loss: 1.3244 - val_accuracy: 0.5280\n",
            "Epoch 13/50\n",
            "313/313 [==============================] - 3s 9ms/step - loss: 1.3347 - accuracy: 0.5093 - val_loss: 1.3164 - val_accuracy: 0.5270\n",
            "Epoch 14/50\n",
            "313/313 [==============================] - 3s 9ms/step - loss: 1.3158 - accuracy: 0.5115 - val_loss: 1.2969 - val_accuracy: 0.5190\n",
            "Epoch 15/50\n",
            "313/313 [==============================] - 2s 7ms/step - loss: 1.3116 - accuracy: 0.5100 - val_loss: 1.2932 - val_accuracy: 0.5130\n",
            "Epoch 16/50\n",
            "313/313 [==============================] - 2s 7ms/step - loss: 1.2990 - accuracy: 0.5101 - val_loss: 1.2732 - val_accuracy: 0.5300\n",
            "Epoch 17/50\n",
            "313/313 [==============================] - 2s 7ms/step - loss: 1.2878 - accuracy: 0.5101 - val_loss: 1.2750 - val_accuracy: 0.5190\n",
            "Epoch 18/50\n",
            "313/313 [==============================] - 3s 8ms/step - loss: 1.2809 - accuracy: 0.5162 - val_loss: 1.2585 - val_accuracy: 0.5270\n",
            "Epoch 19/50\n",
            "313/313 [==============================] - 3s 9ms/step - loss: 1.2545 - accuracy: 0.5416 - val_loss: 1.2386 - val_accuracy: 0.5520\n",
            "Epoch 20/50\n",
            "313/313 [==============================] - 2s 7ms/step - loss: 1.2295 - accuracy: 0.5589 - val_loss: 1.1976 - val_accuracy: 0.6110\n",
            "Epoch 21/50\n",
            "313/313 [==============================] - 2s 7ms/step - loss: 1.2017 - accuracy: 0.5832 - val_loss: 1.1644 - val_accuracy: 0.6230\n",
            "Epoch 22/50\n",
            "313/313 [==============================] - 2s 7ms/step - loss: 1.1727 - accuracy: 0.6056 - val_loss: 1.0988 - val_accuracy: 0.6370\n",
            "Epoch 23/50\n",
            "313/313 [==============================] - 3s 8ms/step - loss: 1.1118 - accuracy: 0.6329 - val_loss: 1.0181 - val_accuracy: 0.6610\n",
            "Epoch 24/50\n",
            "313/313 [==============================] - 3s 10ms/step - loss: 1.0328 - accuracy: 0.6671 - val_loss: 0.9318 - val_accuracy: 0.7100\n",
            "Epoch 25/50\n",
            "313/313 [==============================] - 2s 7ms/step - loss: 0.9559 - accuracy: 0.6993 - val_loss: 0.8593 - val_accuracy: 0.7340\n",
            "Epoch 26/50\n",
            "313/313 [==============================] - 2s 7ms/step - loss: 0.8956 - accuracy: 0.7152 - val_loss: 0.8237 - val_accuracy: 0.7440\n",
            "Epoch 27/50\n",
            "313/313 [==============================] - 2s 7ms/step - loss: 0.8376 - accuracy: 0.7361 - val_loss: 0.7787 - val_accuracy: 0.7510\n",
            "Epoch 28/50\n",
            "313/313 [==============================] - 2s 7ms/step - loss: 0.7911 - accuracy: 0.7507 - val_loss: 0.7644 - val_accuracy: 0.7580\n",
            "Epoch 29/50\n",
            "313/313 [==============================] - 3s 10ms/step - loss: 0.7552 - accuracy: 0.7550 - val_loss: 0.7232 - val_accuracy: 0.7570\n",
            "Epoch 30/50\n",
            "313/313 [==============================] - 2s 7ms/step - loss: 0.7247 - accuracy: 0.7629 - val_loss: 0.6978 - val_accuracy: 0.7630\n",
            "Epoch 31/50\n",
            "313/313 [==============================] - 2s 7ms/step - loss: 0.7010 - accuracy: 0.7682 - val_loss: 0.6767 - val_accuracy: 0.7600\n",
            "Epoch 32/50\n",
            "313/313 [==============================] - 2s 7ms/step - loss: 0.6810 - accuracy: 0.7684 - val_loss: 0.6583 - val_accuracy: 0.7650\n",
            "Epoch 33/50\n",
            "313/313 [==============================] - 2s 8ms/step - loss: 0.6620 - accuracy: 0.7743 - val_loss: 0.6487 - val_accuracy: 0.7620\n",
            "Epoch 34/50\n",
            "313/313 [==============================] - 3s 11ms/step - loss: 0.6448 - accuracy: 0.7749 - val_loss: 0.6378 - val_accuracy: 0.7620\n",
            "Epoch 35/50\n",
            "313/313 [==============================] - 2s 7ms/step - loss: 0.6280 - accuracy: 0.7769 - val_loss: 0.6384 - val_accuracy: 0.7610\n",
            "Epoch 36/50\n",
            "313/313 [==============================] - 2s 7ms/step - loss: 0.6131 - accuracy: 0.7776 - val_loss: 0.6246 - val_accuracy: 0.7580\n",
            "Epoch 37/50\n",
            "313/313 [==============================] - 2s 7ms/step - loss: 0.6012 - accuracy: 0.7814 - val_loss: 0.6124 - val_accuracy: 0.7660\n",
            "Epoch 38/50\n",
            "313/313 [==============================] - 2s 7ms/step - loss: 0.5876 - accuracy: 0.7865 - val_loss: 0.5995 - val_accuracy: 0.7550\n",
            "Epoch 39/50\n",
            "313/313 [==============================] - 3s 11ms/step - loss: 0.5807 - accuracy: 0.7822 - val_loss: 0.5876 - val_accuracy: 0.7540\n",
            "Epoch 40/50\n",
            "313/313 [==============================] - 2s 7ms/step - loss: 0.5602 - accuracy: 0.7862 - val_loss: 0.6055 - val_accuracy: 0.7510\n",
            "Epoch 41/50\n",
            "313/313 [==============================] - 3s 9ms/step - loss: 0.5485 - accuracy: 0.7892 - val_loss: 0.5918 - val_accuracy: 0.7490\n",
            "Epoch 42/50\n",
            "313/313 [==============================] - 3s 8ms/step - loss: 0.5450 - accuracy: 0.7848 - val_loss: 0.5743 - val_accuracy: 0.7470\n",
            "Epoch 43/50\n",
            "313/313 [==============================] - 3s 8ms/step - loss: 0.5340 - accuracy: 0.7901 - val_loss: 0.5694 - val_accuracy: 0.7500\n",
            "Epoch 44/50\n",
            "313/313 [==============================] - 3s 9ms/step - loss: 0.5300 - accuracy: 0.7876 - val_loss: 0.5625 - val_accuracy: 0.7500\n",
            "Epoch 45/50\n",
            "313/313 [==============================] - 2s 7ms/step - loss: 0.5147 - accuracy: 0.7884 - val_loss: 0.5668 - val_accuracy: 0.7500\n",
            "Epoch 46/50\n",
            "313/313 [==============================] - 2s 7ms/step - loss: 0.5110 - accuracy: 0.7910 - val_loss: 0.5669 - val_accuracy: 0.7520\n",
            "Epoch 47/50\n",
            "313/313 [==============================] - 2s 7ms/step - loss: 0.5066 - accuracy: 0.7905 - val_loss: 0.5498 - val_accuracy: 0.7550\n",
            "Epoch 48/50\n",
            "313/313 [==============================] - 2s 8ms/step - loss: 0.5051 - accuracy: 0.7902 - val_loss: 0.5482 - val_accuracy: 0.7560\n",
            "Epoch 49/50\n",
            "313/313 [==============================] - 3s 10ms/step - loss: 0.4983 - accuracy: 0.7948 - val_loss: 0.5603 - val_accuracy: 0.7580\n",
            "Epoch 50/50\n",
            "313/313 [==============================] - 2s 7ms/step - loss: 0.4971 - accuracy: 0.7916 - val_loss: 0.5499 - val_accuracy: 0.7550\n"
          ]
        }
      ]
    },
    {
      "cell_type": "markdown",
      "source": [
        "##🔴 Model evaluation"
      ],
      "metadata": {
        "id": "NuIgIy_A6L3k"
      }
    },
    {
      "cell_type": "markdown",
      "source": [
        "####🔴 Visualization of history"
      ],
      "metadata": {
        "id": "a8MKa1JI6WDc"
      }
    },
    {
      "cell_type": "code",
      "source": [
        "def plotmodelhistory(history):\n",
        "    fig, axs = plt.subplots(1,2,figsize=(15,5))\n",
        "    # summarize history for accuracy\n",
        "    axs[0].plot(history.history['accuracy'])\n",
        "    axs[0].plot(history.history['val_accuracy'])\n",
        "    axs[0].set_title('Model Accuracy')\n",
        "    axs[0].set_ylabel('Accuracy')\n",
        "    axs[0].set_xlabel('Epoch')\n",
        "    axs[0].legend(['train', 'validate'], loc='upper left')\n",
        "    # summarize history for loss\n",
        "    axs[1].plot(history.history['loss'])\n",
        "    axs[1].plot(history.history['val_loss'])\n",
        "    axs[1].set_title('Model Loss')\n",
        "    axs[1].set_ylabel('Loss')\n",
        "    axs[1].set_xlabel('Epoch')\n",
        "    axs[1].legend(['train', 'validate'], loc='upper left')\n",
        "    plt.show()\n",
        "\n",
        "# list all data in history\n",
        "print(history.history.keys())\n",
        "\n",
        "plotmodelhistory(history)"
      ],
      "metadata": {
        "colab": {
          "base_uri": "https://localhost:8080/",
          "height": 274
        },
        "id": "DLQaX3_c19ho",
        "outputId": "7e8ec880-011a-43be-ba3a-f1b119480827"
      },
      "execution_count": null,
      "outputs": [
        {
          "output_type": "stream",
          "name": "stdout",
          "text": [
            "dict_keys(['loss', 'accuracy', 'val_loss', 'val_accuracy'])\n"
          ]
        },
        {
          "output_type": "display_data",
          "data": {
            "text/plain": [
              "<Figure size 1500x500 with 2 Axes>"
            ],
            "image/png": "[encoded data removed]"
          },
          "metadata": {}
        }
      ]
    },
    {
      "cell_type": "markdown",
      "source": [
        "## 🔴Test of model"
      ],
      "metadata": {
        "id": "8aG2P7Ja6zdJ"
      }
    },
    {
      "cell_type": "code",
      "source": [
        "prediction = model.predict([inputs_test, queries_test])"
      ],
      "metadata": {
        "colab": {
          "base_uri": "https://localhost:8080/"
        },
        "id": "qqCa_BmBALQS",
        "outputId": "858abc15-41a9-4bd1-c23b-e8b789e7833c"
      },
      "execution_count": null,
      "outputs": [
        {
          "output_type": "stream",
          "name": "stdout",
          "text": [
            "32/32 [==============================] - 1s 3ms/step\n"
          ]
        }
      ]
    },
    {
      "cell_type": "code",
      "source": [
        "prediction"
      ],
      "metadata": {
        "colab": {
          "base_uri": "https://localhost:8080/"
        },
        "id": "RikwYKH5A9rJ",
        "outputId": "20b8cf8b-b085-45df-8001-4ea1e26cd216"
      },
      "execution_count": null,
      "outputs": [
        {
          "output_type": "execute_result",
          "data": {
            "text/plain": [
              "array([[1.6098449e-08, 2.0856040e-08, 1.8642996e-08, ..., 1.8174038e-08,\n",
              "        1.9399556e-08, 1.2956827e-08],\n",
              "       [6.0979382e-05, 7.8630881e-05, 7.8694866e-05, ..., 8.8410437e-05,\n",
              "        8.3662708e-05, 9.3816525e-05],\n",
              "       [1.1861916e-07, 2.2414935e-07, 1.6441524e-07, ..., 1.4940098e-07,\n",
              "        1.3599572e-07, 1.1930804e-07],\n",
              "       ...,\n",
              "       [3.1043083e-07, 3.1235012e-07, 4.8020303e-07, ..., 4.3480270e-07,\n",
              "        4.2306453e-07, 3.6340771e-07],\n",
              "       [2.5125055e-09, 1.4227819e-09, 1.6184004e-09, ..., 1.6949114e-09,\n",
              "        2.9457992e-09, 2.6307492e-09],\n",
              "       [5.4160639e-05, 4.4908629e-05, 5.0714702e-05, ..., 4.9031987e-05,\n",
              "        6.4831875e-05, 5.2958971e-05]], dtype=float32)"
            ]
          },
          "metadata": {},
          "execution_count": 189
        }
      ]
    },
    {
      "cell_type": "code",
      "source": [
        "data_test[0][0]"
      ],
      "metadata": {
        "colab": {
          "base_uri": "https://localhost:8080/"
        },
        "id": "4dZIcsh91c-z",
        "outputId": "00c8a9dd-1e41-474f-c166-6455d2f0ceb7"
      },
      "execution_count": null,
      "outputs": [
        {
          "output_type": "execute_result",
          "data": {
            "text/plain": [
              "['John',\n",
              " 'travelled',\n",
              " 'to',\n",
              " 'the',\n",
              " 'hallway',\n",
              " '.',\n",
              " 'Mary',\n",
              " 'journeyed',\n",
              " 'to',\n",
              " 'the',\n",
              " 'bathroom',\n",
              " '.']"
            ]
          },
          "metadata": {},
          "execution_count": 190
        }
      ]
    },
    {
      "cell_type": "code",
      "source": [
        "data_test[0][1]"
      ],
      "metadata": {
        "colab": {
          "base_uri": "https://localhost:8080/"
        },
        "id": "Dn8mPXc2BS-5",
        "outputId": "0e59bdf5-d17b-4f0d-f346-399908843def"
      },
      "execution_count": null,
      "outputs": [
        {
          "output_type": "execute_result",
          "data": {
            "text/plain": [
              "['Where', 'is', 'John', '?']"
            ]
          },
          "metadata": {},
          "execution_count": 191
        }
      ]
    },
    {
      "cell_type": "code",
      "source": [
        "data_test[0][2]"
      ],
      "metadata": {
        "colab": {
          "base_uri": "https://localhost:8080/",
          "height": 35
        },
        "id": "jblee4xlBTGl",
        "outputId": "614e9a1a-b041-45db-c238-f75f5453b427"
      },
      "execution_count": null,
      "outputs": [
        {
          "output_type": "execute_result",
          "data": {
            "text/plain": [
              "'hallway'"
            ],
            "application/vnd.google.colaboratory.intrinsic+json": {
              "type": "string"
            }
          },
          "metadata": {},
          "execution_count": 192
        }
      ]
    },
    {
      "cell_type": "code",
      "source": [
        "prediction[0]"
      ],
      "metadata": {
        "colab": {
          "base_uri": "https://localhost:8080/"
        },
        "id": "SNDnYJ0B1dBA",
        "outputId": "86a1d66e-f7ca-4139-a172-3cbbee676d82"
      },
      "execution_count": null,
      "outputs": [
        {
          "output_type": "execute_result",
          "data": {
            "text/plain": [
              "array([1.60984488e-08, 2.08560405e-08, 1.86429965e-08, 1.68833907e-08,\n",
              "       1.16346008e-08, 1.19105525e-08, 1.46071493e-08, 1.64793956e-08,\n",
              "       1.46737769e-08, 8.83827975e-04, 1.75651372e-03, 4.59496572e-04,\n",
              "       9.90774035e-01, 1.28783046e-08, 1.32260922e-08, 5.63150784e-03,\n",
              "       1.49607668e-08, 4.94371343e-04, 1.81365003e-08, 1.81740383e-08,\n",
              "       1.93995557e-08, 1.29568267e-08], dtype=float32)"
            ]
          },
          "metadata": {},
          "execution_count": 193
        }
      ]
    },
    {
      "cell_type": "code",
      "source": [
        "val_max = np.argmax(prediction[0])"
      ],
      "metadata": {
        "id": "QsYf3T4307d0"
      },
      "execution_count": null,
      "outputs": []
    },
    {
      "cell_type": "code",
      "source": [
        "for key, val in tokenizer.word_index.items():\n",
        "  if val == val_max:\n",
        "    k = key"
      ],
      "metadata": {
        "id": "g2kdot2Q07hu"
      },
      "execution_count": null,
      "outputs": []
    },
    {
      "cell_type": "code",
      "source": [
        "k"
      ],
      "metadata": {
        "colab": {
          "base_uri": "https://localhost:8080/",
          "height": 35
        },
        "id": "_AOm66QGB_xj",
        "outputId": "249fe1af-b50e-4e75-a776-cdb8ceeabf7b"
      },
      "execution_count": null,
      "outputs": [
        {
          "output_type": "execute_result",
          "data": {
            "text/plain": [
              "'hallway'"
            ],
            "application/vnd.google.colaboratory.intrinsic+json": {
              "type": "string"
            }
          },
          "metadata": {},
          "execution_count": 196
        }
      ]
    },
    {
      "cell_type": "code",
      "source": [
        "prediction[0][val_max]"
      ],
      "metadata": {
        "colab": {
          "base_uri": "https://localhost:8080/"
        },
        "id": "3sMArXH4CAUd",
        "outputId": "0de1473b-5d09-4325-fed8-bcc9837e7546"
      },
      "execution_count": null,
      "outputs": [
        {
          "output_type": "execute_result",
          "data": {
            "text/plain": [
              "0.99077404"
            ]
          },
          "metadata": {},
          "execution_count": 197
        }
      ]
    },
    {
      "cell_type": "code",
      "source": [
        "vocab"
      ],
      "metadata": {
        "colab": {
          "base_uri": "https://localhost:8080/"
        },
        "id": "lIlkr9pZCQbA",
        "outputId": "683632be-817e-41bf-de00-0b78e5b6d13b"
      },
      "execution_count": null,
      "outputs": [
        {
          "output_type": "execute_result",
          "data": {
            "text/plain": [
              "['.',\n",
              " '?',\n",
              " 'Daniel',\n",
              " 'John',\n",
              " 'Mary',\n",
              " 'Sandra',\n",
              " 'Where',\n",
              " 'back',\n",
              " 'bathroom',\n",
              " 'bedroom',\n",
              " 'garden',\n",
              " 'hallway',\n",
              " 'is',\n",
              " 'journeyed',\n",
              " 'kitchen',\n",
              " 'moved',\n",
              " 'office',\n",
              " 'the',\n",
              " 'to',\n",
              " 'travelled',\n",
              " 'went']"
            ]
          },
          "metadata": {},
          "execution_count": 198
        }
      ]
    },
    {
      "cell_type": "code",
      "source": [
        "my_story = 'John went to the kitchen . Sandra moved to the office .'"
      ],
      "metadata": {
        "id": "j-5EyBd9CQeD"
      },
      "execution_count": null,
      "outputs": []
    },
    {
      "cell_type": "code",
      "source": [
        "my_story.split()"
      ],
      "metadata": {
        "colab": {
          "base_uri": "https://localhost:8080/"
        },
        "id": "dAIGt16kCQhA",
        "outputId": "24ec4a6c-e932-4130-8a2e-2a0057d37940"
      },
      "execution_count": null,
      "outputs": [
        {
          "output_type": "execute_result",
          "data": {
            "text/plain": [
              "['John',\n",
              " 'went',\n",
              " 'to',\n",
              " 'the',\n",
              " 'kitchen',\n",
              " '.',\n",
              " 'Sandra',\n",
              " 'moved',\n",
              " 'to',\n",
              " 'the',\n",
              " 'office',\n",
              " '.']"
            ]
          },
          "metadata": {},
          "execution_count": 200
        }
      ]
    },
    {
      "cell_type": "code",
      "source": [
        "my_question = 'Where is Sandra ?'"
      ],
      "metadata": {
        "id": "lEaT-JE-C6lj"
      },
      "execution_count": null,
      "outputs": []
    },
    {
      "cell_type": "code",
      "source": [
        "my_question.split()"
      ],
      "metadata": {
        "colab": {
          "base_uri": "https://localhost:8080/"
        },
        "id": "k_glrj2IC6nv",
        "outputId": "4a7c982f-7f18-42e4-80d1-bc06f4409642"
      },
      "execution_count": null,
      "outputs": [
        {
          "output_type": "execute_result",
          "data": {
            "text/plain": [
              "['Where', 'is', 'Sandra', '?']"
            ]
          },
          "metadata": {},
          "execution_count": 202
        }
      ]
    },
    {
      "cell_type": "code",
      "source": [
        "my_data = [(my_story.split(), my_question.split(), 'office')]"
      ],
      "metadata": {
        "id": "lp5_IL3BC6pa"
      },
      "execution_count": null,
      "outputs": []
    },
    {
      "cell_type": "code",
      "source": [
        "my_data"
      ],
      "metadata": {
        "colab": {
          "base_uri": "https://localhost:8080/"
        },
        "id": "WM47pHoYC6rR",
        "outputId": "c3900758-1116-4eb8-a3cd-4f5ad33e417c"
      },
      "execution_count": null,
      "outputs": [
        {
          "output_type": "execute_result",
          "data": {
            "text/plain": [
              "[(['John',\n",
              "   'went',\n",
              "   'to',\n",
              "   'the',\n",
              "   'kitchen',\n",
              "   '.',\n",
              "   'Sandra',\n",
              "   'moved',\n",
              "   'to',\n",
              "   'the',\n",
              "   'office',\n",
              "   '.'],\n",
              "  ['Where', 'is', 'Sandra', '?'],\n",
              "  'office')]"
            ]
          },
          "metadata": {},
          "execution_count": 204
        }
      ]
    },
    {
      "cell_type": "code",
      "source": [
        "my_story, my_q, my_ans = vectorize_stories(my_data)"
      ],
      "metadata": {
        "id": "Fto7FqOnDk40"
      },
      "execution_count": null,
      "outputs": []
    },
    {
      "cell_type": "code",
      "source": [
        "my_story"
      ],
      "metadata": {
        "colab": {
          "base_uri": "https://localhost:8080/"
        },
        "id": "dzwLFRRXDk7m",
        "outputId": "413e8fab-95b5-4a26-fa4a-e7ca458ba5a7"
      },
      "execution_count": null,
      "outputs": [
        {
          "output_type": "execute_result",
          "data": {
            "text/plain": [
              "array([[ 0,  0,  4, 21, 19, 18, 15,  1,  6, 16, 19, 18, 17,  1]],\n",
              "      dtype=int32)"
            ]
          },
          "metadata": {},
          "execution_count": 206
        }
      ]
    },
    {
      "cell_type": "code",
      "source": [
        "my_q"
      ],
      "metadata": {
        "colab": {
          "base_uri": "https://localhost:8080/"
        },
        "id": "ZT4FxLIRC6tO",
        "outputId": "8efa9cbf-8356-48cf-90a0-d445e239a87e"
      },
      "execution_count": null,
      "outputs": [
        {
          "output_type": "execute_result",
          "data": {
            "text/plain": [
              "array([[ 7, 13,  6,  2]], dtype=int32)"
            ]
          },
          "metadata": {},
          "execution_count": 207
        }
      ]
    },
    {
      "cell_type": "code",
      "source": [
        "my_ans"
      ],
      "metadata": {
        "colab": {
          "base_uri": "https://localhost:8080/"
        },
        "id": "beksUU7GEaX6",
        "outputId": "108bca70-704d-43c7-da87-b3504d15bf5a"
      },
      "execution_count": null,
      "outputs": [
        {
          "output_type": "execute_result",
          "data": {
            "text/plain": [
              "array([[0., 0., 0., 0., 0., 0., 0., 0., 0., 0., 0., 0., 0., 0., 0., 0.,\n",
              "        0., 1., 0., 0., 0., 0.]])"
            ]
          },
          "metadata": {},
          "execution_count": 208
        }
      ]
    },
    {
      "cell_type": "code",
      "source": [
        "pred = model.predict([my_story, my_q])"
      ],
      "metadata": {
        "colab": {
          "base_uri": "https://localhost:8080/"
        },
        "id": "Jdo0BuGjEfHa",
        "outputId": "5042b086-9c1c-4409-d856-28be6fd31ea1"
      },
      "execution_count": null,
      "outputs": [
        {
          "output_type": "stream",
          "name": "stdout",
          "text": [
            "1/1 [==============================] - 0s 29ms/step\n"
          ]
        }
      ]
    },
    {
      "cell_type": "code",
      "source": [
        "val_max = np.argmax(pred[0])"
      ],
      "metadata": {
        "id": "qpI6MtlPEfJ6"
      },
      "execution_count": null,
      "outputs": []
    },
    {
      "cell_type": "code",
      "source": [
        "for key, val in tokenizer.word_index.items():\n",
        "  if val == val_max:\n",
        "    k = key"
      ],
      "metadata": {
        "id": "jVXlfp6IEfML"
      },
      "execution_count": null,
      "outputs": []
    },
    {
      "cell_type": "code",
      "source": [
        "k"
      ],
      "metadata": {
        "colab": {
          "base_uri": "https://localhost:8080/",
          "height": 35
        },
        "id": "1N4q5KzDEfOj",
        "outputId": "d5d3ae8d-bfcf-4b4a-b097-61400e2ea432"
      },
      "execution_count": null,
      "outputs": [
        {
          "output_type": "execute_result",
          "data": {
            "text/plain": [
              "'office'"
            ],
            "application/vnd.google.colaboratory.intrinsic+json": {
              "type": "string"
            }
          },
          "metadata": {},
          "execution_count": 212
        }
      ]
    },
    {
      "cell_type": "code",
      "source": [
        "pred[0][val_max]"
      ],
      "metadata": {
        "colab": {
          "base_uri": "https://localhost:8080/"
        },
        "id": "NReLjcy4EfR_",
        "outputId": "94e87339-f322-4f50-e541-70346eddb19c"
      },
      "execution_count": null,
      "outputs": [
        {
          "output_type": "execute_result",
          "data": {
            "text/plain": [
              "0.9986552"
            ]
          },
          "metadata": {},
          "execution_count": 213
        }
      ]
    },
    {
      "cell_type": "code",
      "source": [],
      "metadata": {
        "id": "ngeApdRsEfWc"
      },
      "execution_count": null,
      "outputs": []
    }
  ]
}